version https://git-lfs.github.com/spec/v1
oid sha256:4199f014892dcbec7bdbb60aa804fe7d9ddd44525afeb557adaf9f5c05a6ee70
size 296348
