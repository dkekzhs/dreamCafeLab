version https://git-lfs.github.com/spec/v1
oid sha256:fd6b4b3ab5b230e9bfd0ffe7f416a793a945a44db0897403c0cd98311ba5c177
size 2432393
